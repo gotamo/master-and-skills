{
 "cells": [
  {
   "cell_type": "markdown",
   "metadata": {},
   "source": [
    "# Generate and Cluster\n",
    "1. Choose 5 centroid points in the XY plane\n",
    "2. Generate random points around the centroids\n",
    "3. Generate KMeans and Hierarchical clusters"
   ]
  },
  {
   "cell_type": "code",
   "execution_count": 1,
   "metadata": {},
   "outputs": [],
   "source": [
    "import random\n",
    "import numpy as np\n",
    "\n",
    "import matplotlib.pyplot as plt\n",
    "from matplotlib import rcParams\n",
    "import seaborn as sb\n",
    "\n",
    "import sklearn\n",
    "from sklearn.cluster import KMeans\n",
    "\n",
    "import scipy\n",
    "from scipy.cluster.hierarchy import dendrogram, linkage"
   ]
  },
  {
   "cell_type": "code",
   "execution_count": 2,
   "metadata": {},
   "outputs": [],
   "source": [
    "%matplotlib inline\n",
    "rcParams['figure.figsize'] = 5, 4"
   ]
  },
  {
   "cell_type": "markdown",
   "metadata": {},
   "source": [
    "### Choose 5 centroid"
   ]
  },
  {
   "cell_type": "code",
   "execution_count": 3,
   "metadata": {},
   "outputs": [],
   "source": [
    "array_cx = np.array([120,230,550,300,200])\n",
    "array_cy = np.array([80,330,650,420,570])"
   ]
  },
  {
   "cell_type": "markdown",
   "metadata": {},
   "source": [
    "### Generate random points"
   ]
  },
  {
   "cell_type": "code",
   "execution_count": 4,
   "metadata": {},
   "outputs": [
    {
     "name": "stdout",
     "output_type": "stream",
     "text": [
      "[120.  80. 111.  98.  95. 142. 152. 138.  85.  97. 230. 218. 245. 218.\n",
      " 230. 254. 259. 265. 229. 208. 550. 553. 529. 538. 561. 537. 574. 571.\n",
      " 552. 552. 300. 269. 283. 312. 334. 264. 283. 263. 339. 284. 200. 193.\n",
      " 174. 217. 174. 230. 226. 189. 183. 233.]\n",
      "[ 80.  86.  72.  73. 112.  78.  71.  81. 114.  78. 330. 332. 318. 334.\n",
      " 336. 299. 361. 340. 322. 301. 650. 657. 653. 668. 659. 635. 680. 629.\n",
      " 629. 615. 420. 417. 407. 399. 421. 381. 380. 448. 416. 454. 570. 535.\n",
      " 534. 545. 602. 594. 600. 568. 580. 539.]\n"
     ]
    }
   ],
   "source": [
    "# X\n",
    "array_x = np.array([])\n",
    "for cx in array_cx:\n",
    "    array_x = np.append( array_x, cx )\n",
    "    for i in range(1,10):\n",
    "        x = random.randrange(-40,40)\n",
    "        array_x = np.append( array_x, cx + x )\n",
    "\n",
    "print(array_x)\n",
    "\n",
    "# Y\n",
    "array_y = np.array([])\n",
    "for cy in array_cy:\n",
    "    array_y = np.append( array_y, cy )\n",
    "    for i in range(1,10):\n",
    "        y = random.randrange(-40,40)\n",
    "        array_y = np.append( array_y, cy + y )\n",
    "\n",
    "print(array_y)\n"
   ]
  },
  {
   "cell_type": "code",
   "execution_count": 5,
   "metadata": {},
   "outputs": [
    {
     "data": {
      "text/plain": [
       "<matplotlib.collections.PathCollection at 0x1a1f666910>"
      ]
     },
     "execution_count": 5,
     "metadata": {},
     "output_type": "execute_result"
    },
    {
     "data": {
      "image/png": "[encoded data removed]",
      "text/plain": [
       "<Figure size 360x288 with 1 Axes>"
      ]
     },
     "metadata": {
      "needs_background": "light"
     },
     "output_type": "display_data"
    }
   ],
   "source": [
    "plt.scatter(array_x,array_y)"
   ]
  },
  {
   "cell_type": "markdown",
   "metadata": {},
   "source": [
    "## KMeans"
   ]
  },
  {
   "cell_type": "code",
   "execution_count": 6,
   "metadata": {},
   "outputs": [],
   "source": [
    "array_xy=np.column_stack((array_x,array_y))"
   ]
  },
  {
   "cell_type": "code",
   "execution_count": 7,
   "metadata": {},
   "outputs": [
    {
     "data": {
      "text/plain": [
       "KMeans(algorithm='auto', copy_x=True, init='k-means++', max_iter=300,\n",
       "    n_clusters=5, n_init=10, n_jobs=None, precompute_distances='auto',\n",
       "    random_state=None, tol=0.0001, verbose=0)"
      ]
     },
     "execution_count": 7,
     "metadata": {},
     "output_type": "execute_result"
    }
   ],
   "source": [
    "clustering = KMeans(n_clusters=5)\n",
    "clustering.fit(array_xy)"
   ]
  },
  {
   "cell_type": "code",
   "execution_count": 8,
   "metadata": {},
   "outputs": [
    {
     "data": {
      "text/plain": [
       "<matplotlib.collections.PathCollection at 0x1a1fb77450>"
      ]
     },
     "execution_count": 8,
     "metadata": {},
     "output_type": "execute_result"
    },
    {
     "data": {
      "image/png": "[encoded data removed]",
      "text/plain": [
       "<Figure size 360x288 with 1 Axes>"
      ]
     },
     "metadata": {
      "needs_background": "light"
     },
     "output_type": "display_data"
    }
   ],
   "source": [
    "colors = np.array(['red','blue','black','yellow','cyan'])\n",
    "plt.scatter(x=array_x, y=array_y, c=colors[clustering.labels_])"
   ]
  },
  {
   "cell_type": "markdown",
   "metadata": {},
   "source": [
    "## Hierarchical"
   ]
  },
  {
   "cell_type": "code",
   "execution_count": 9,
   "metadata": {},
   "outputs": [],
   "source": [
    "link = linkage(array_xy)"
   ]
  },
  {
   "cell_type": "code",
   "execution_count": 10,
   "metadata": {},
   "outputs": [
    {
     "data": {
      "image/png": "[encoded data removed]",
      "text/plain": [
       "<Figure size 360x288 with 1 Axes>"
      ]
     },
     "metadata": {
      "needs_background": "light"
     },
     "output_type": "display_data"
    }
   ],
   "source": [
    "dendrogram( link, truncate_mode='lastp', p=5 )\n",
    "plt.show()"
   ]
  }
 ],
 "metadata": {
  "kernelspec": {
   "display_name": "Python 2",
   "language": "python",
   "name": "python2"
  },
  "language_info": {
   "codemirror_mode": {
    "name": "ipython",
    "version": 2
   },
   "file_extension": ".py",
   "mimetype": "text/x-python",
   "name": "python",
   "nbconvert_exporter": "python",
   "pygments_lexer": "ipython2",
   "version": "2.7.15"
  }
 },
 "nbformat": 4,
 "nbformat_minor": 2
}
