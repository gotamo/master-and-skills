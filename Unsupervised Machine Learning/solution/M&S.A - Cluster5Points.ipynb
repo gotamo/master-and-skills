{
 "cells": [
  {
   "cell_type": "markdown",
   "metadata": {},
   "source": [
    "# Generate and Cluster\n",
    "1. Choose 5 centroid points in the XY plane\n",
    "2. Generate random points around the centroids\n",
    "3. Generate KMeans and Hierarchical clusters"
   ]
  },
  {
   "cell_type": "code",
   "execution_count": 1,
   "metadata": {},
   "outputs": [],
   "source": [
    "import random\n",
    "import numpy as np\n",
    "\n",
    "import matplotlib.pyplot as plt\n",
    "from matplotlib import rcParams\n",
    "import seaborn as sb\n",
    "\n",
    "import sklearn\n",
    "from sklearn.cluster import KMeans\n",
    "\n",
    "import scipy\n",
    "from scipy.cluster.hierarchy import dendrogram, linkage"
   ]
  },
  {
   "cell_type": "code",
   "execution_count": 2,
   "metadata": {},
   "outputs": [],
   "source": [
    "%matplotlib inline\n",
    "rcParams['figure.figsize'] = 5, 4"
   ]
  },
  {
   "cell_type": "markdown",
   "metadata": {},
   "source": [
    "### Choose 5 centroid"
   ]
  },
  {
   "cell_type": "code",
   "execution_count": 3,
   "metadata": {},
   "outputs": [],
   "source": [
    "array_cx = np.array([120,230,550,300,200])\n",
    "array_cy = np.array([80,330,650,420,570])"
   ]
  },
  {
   "cell_type": "markdown",
   "metadata": {},
   "source": [
    "### Generate random points"
   ]
  },
  {
   "cell_type": "code",
   "execution_count": 4,
   "metadata": {},
   "outputs": [
    {
     "name": "stdout",
     "output_type": "stream",
     "text": [
      "[120.  91. 145. 131. 126.  95. 102.  99.  89. 135. 230. 222. 217. 266.\n",
      " 193. 269. 258. 241. 200. 205. 550. 568. 563. 562. 583. 582. 551. 542.\n",
      " 568. 518. 300. 290. 265. 287. 264. 285. 306. 285. 272. 313. 200. 194.\n",
      " 221. 207. 218. 169. 227. 189. 199. 226.]\n",
      "[ 80.  51. 114.  49.  68.  95. 116.  46.  60.  67. 330. 344. 343. 344.\n",
      " 313. 295. 355. 333. 344. 369. 650. 664. 686. 619. 670. 639. 634. 618.\n",
      " 664. 610. 420. 442. 457. 443. 418. 388. 383. 445. 450. 390. 570. 604.\n",
      " 608. 578. 543. 555. 564. 550. 542. 581.]\n"
     ]
    }
   ],
   "source": [
    "# X\n",
    "array_x = np.array([])\n",
    "for cx in array_cx:\n",
    "    array_x = np.append( array_x, cx )\n",
    "    for i in range(1,10):\n",
    "        x = random.randrange(-40,40)\n",
    "        array_x = np.append( array_x, cx + x )\n",
    "\n",
    "print(array_x)\n",
    "\n",
    "# Y\n",
    "array_y = np.array([])\n",
    "for cy in array_cy:\n",
    "    array_y = np.append( array_y, cy )\n",
    "    for i in range(1,10):\n",
    "        y = random.randrange(-40,40)\n",
    "        array_y = np.append( array_y, cy + y )\n",
    "\n",
    "print(array_y)\n"
   ]
  },
  {
   "cell_type": "code",
   "execution_count": 5,
   "metadata": {},
   "outputs": [
    {
     "data": {
      "text/plain": [
       "<matplotlib.collections.PathCollection at 0x1157cc910>"
      ]
     },
     "execution_count": 5,
     "metadata": {},
     "output_type": "execute_result"
    },
    {
     "data": {
      "image/png": "[encoded data removed]",
      "text/plain": [
       "<Figure size 360x288 with 1 Axes>"
      ]
     },
     "metadata": {
      "needs_background": "light"
     },
     "output_type": "display_data"
    }
   ],
   "source": [
    "plt.scatter(array_x,array_y)"
   ]
  },
  {
   "cell_type": "markdown",
   "metadata": {},
   "source": [
    "## KMeans"
   ]
  },
  {
   "cell_type": "code",
   "execution_count": 6,
   "metadata": {},
   "outputs": [],
   "source": [
    "array_xy=np.column_stack((array_x,array_y))"
   ]
  },
  {
   "cell_type": "code",
   "execution_count": 7,
   "metadata": {},
   "outputs": [
    {
     "data": {
      "text/plain": [
       "KMeans(algorithm='auto', copy_x=True, init='k-means++', max_iter=300,\n",
       "    n_clusters=5, n_init=10, n_jobs=None, precompute_distances='auto',\n",
       "    random_state=None, tol=0.0001, verbose=0)"
      ]
     },
     "execution_count": 7,
     "metadata": {},
     "output_type": "execute_result"
    }
   ],
   "source": [
    "clustering = KMeans(n_clusters=5)\n",
    "clustering.fit(array_xy)"
   ]
  },
  {
   "cell_type": "code",
   "execution_count": 8,
   "metadata": {},
   "outputs": [
    {
     "data": {
      "text/plain": [
       "<matplotlib.collections.PathCollection at 0x115cdd9d0>"
      ]
     },
     "execution_count": 8,
     "metadata": {},
     "output_type": "execute_result"
    },
    {
     "data": {
      "image/png": "[encoded data removed]",
      "text/plain": [
       "<Figure size 360x288 with 1 Axes>"
      ]
     },
     "metadata": {
      "needs_background": "light"
     },
     "output_type": "display_data"
    }
   ],
   "source": [
    "colors = np.array(['red','blue','black','yellow','cyan'])\n",
    "plt.scatter(x=array_x, y=array_y, c=colors[clustering.labels_])"
   ]
  },
  {
   "cell_type": "markdown",
   "metadata": {},
   "source": [
    "## Hierarchical"
   ]
  },
  {
   "cell_type": "code",
   "execution_count": 9,
   "metadata": {},
   "outputs": [],
   "source": [
    "link = linkage(array_xy)"
   ]
  },
  {
   "cell_type": "code",
   "execution_count": 10,
   "metadata": {},
   "outputs": [
    {
     "data": {
      "image/png": "[encoded data removed]",
      "text/plain": [
       "<Figure size 360x288 with 1 Axes>"
      ]
     },
     "metadata": {
      "needs_background": "light"
     },
     "output_type": "display_data"
    }
   ],
   "source": [
    "dendrogram( link, truncate_mode='lastp', p=5 )\n",
    "plt.show()"
   ]
  }
 ],
 "metadata": {
  "kernelspec": {
   "display_name": "Python 2",
   "language": "python",
   "name": "python2"
  },
  "language_info": {
   "codemirror_mode": {
    "name": "ipython",
    "version": 2
   },
   "file_extension": ".py",
   "mimetype": "text/x-python",
   "name": "python",
   "nbconvert_exporter": "python",
   "pygments_lexer": "ipython2",
   "version": "2.7.15"
  }
 },
 "nbformat": 4,
 "nbformat_minor": 2
}
