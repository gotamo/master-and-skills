{
 "cells": [
  {
   "cell_type": "code",
   "execution_count": 11,
   "metadata": {},
   "outputs": [],
   "source": [
    "import numpy as np\n",
    "import pandas as pd\n",
    "\n",
    "import matplotlib.pyplot as plt\n",
    "from matplotlib import rcParams\n",
    "\n",
    "import sklearn\n",
    "from sklearn import datasets\n",
    "\n",
    "from sklearn.metrics import accuracy_score, silhouette_score\n",
    "\n",
    "from sklearn.cluster import AgglomerativeClustering"
   ]
  },
  {
   "cell_type": "code",
   "execution_count": 3,
   "metadata": {},
   "outputs": [],
   "source": [
    "%matplotlib inline\n",
    "rcParams['figure.figsize'] = 7, 4"
   ]
  },
  {
   "cell_type": "markdown",
   "metadata": {},
   "source": [
    "## Load Iris Dataset"
   ]
  },
  {
   "cell_type": "code",
   "execution_count": 4,
   "metadata": {},
   "outputs": [],
   "source": [
    "iris = datasets.load_iris()\n",
    "# print (iris['DESCR'])"
   ]
  },
  {
   "cell_type": "markdown",
   "metadata": {},
   "source": [
    "## Agglomerative Clustering\n",
    "**linkage**(y, **method**='single', metric='euclidean', optimal_ordering=False)\n",
    "\n",
    "Allowed methods: \"ward”, “complete”, “average”, “single”\n",
    "- *ward* minimizes the variance of the clusters being merged.\n",
    "- *average* uses the average of the distances of each observation of the two sets.\n",
    "- *complete* or maximum linkage uses the maximum distances between all observations of the two sets.\n",
    "- *single* uses the minimum of the distances between all observations of the two sets."
   ]
  },
  {
   "cell_type": "code",
   "execution_count": 5,
   "metadata": {},
   "outputs": [],
   "source": [
    "import scipy #for dendograms\n",
    "from scipy.cluster.hierarchy import dendrogram, linkage\n",
    "\n",
    "z = linkage(iris.data, 'ward') # return the linkage matrix"
   ]
  },
  {
   "cell_type": "code",
   "execution_count": 7,
   "metadata": {},
   "outputs": [
    {
     "data": {
      "image/png": "[encoded data removed]",
      "text/plain": [
       "<Figure size 504x288 with 1 Axes>"
      ]
     },
     "metadata": {
      "needs_background": "light"
     },
     "output_type": "display_data"
    }
   ],
   "source": [
    "dendrogram(z, \n",
    "           truncate_mode='lastp', # show only the last p merged clusters\n",
    "           p=12, # show only the last p merged clusters\n",
    "           leaf_rotation=45., \n",
    "           leaf_font_size=15., \n",
    "           show_contracted=True # to get a distribution impression in truncated branches\n",
    "          )\n",
    "plt.title('Truncated Hierarchical Clustering Dendrograms')\n",
    "plt.xlabel('Cluster Size')\n",
    "plt.ylabel('Distance')\n",
    "\n",
    "plt.show()"
   ]
  },
  {
   "cell_type": "markdown",
   "metadata": {},
   "source": [
    "## Agglomerative Clustering\n",
    "**AgglomerativeClustering**(n_clusters=2, **affinity**=’euclidean’, memory=None, connectivity=None, compute_full_tree=’auto’, **linkage**=’ward’, pooling_func=’deprecated’)\n",
    "\n",
    "- **affinity** can be: “euclidean”, “manhattan”, “cosine”, (and “l1”, “l2”).\n",
    "- **linkage** can be: \"ward”, “complete”, “average”, “single”.\n"
   ]
  },
  {
   "cell_type": "code",
   "execution_count": 14,
   "metadata": {},
   "outputs": [
    {
     "name": "stdout",
     "output_type": "stream",
     "text": [
      "accuracy_score 0.8933333333333333\n",
      "silhouette_score 0.5543236611296415\n"
     ]
    }
   ],
   "source": [
    "clustering = AgglomerativeClustering(n_clusters=3, affinity='euclidean', linkage='ward')\n",
    "\n",
    "clustering.fit(iris.data)\n",
    "\n",
    "relabel = np.choose(clustering.labels_,[1,0,2]).astype(np.int64)\n",
    "\n",
    "print( 'accuracy_score', accuracy_score(iris.target, relabel) )\n",
    "print( 'silhouette_score', silhouette_score(iris.data, relabel) )"
   ]
  },
  {
   "cell_type": "code",
   "execution_count": 7,
   "metadata": {},
   "outputs": [
    {
     "data": {
      "text/plain": [
       "array([1, 1, 1, 1, 1, 1, 1, 1, 1, 1, 1, 1, 1, 1, 1, 1, 1, 1, 1, 1, 1, 1,\n",
       "       1, 1, 1, 1, 1, 1, 1, 1, 1, 1, 1, 1, 1, 1, 1, 1, 1, 1, 1, 1, 1, 1,\n",
       "       1, 1, 1, 1, 1, 1, 0, 0, 0, 0, 0, 0, 0, 0, 0, 0, 0, 0, 0, 0, 0, 0,\n",
       "       0, 0, 0, 0, 0, 0, 0, 0, 0, 0, 0, 2, 0, 0, 0, 0, 0, 0, 0, 0, 0, 0,\n",
       "       0, 0, 0, 0, 0, 0, 0, 0, 0, 0, 0, 0, 2, 0, 2, 2, 2, 2, 0, 2, 2, 2,\n",
       "       2, 2, 2, 0, 0, 2, 2, 2, 2, 0, 2, 0, 2, 0, 2, 2, 0, 0, 2, 2, 2, 2,\n",
       "       2, 0, 0, 2, 2, 2, 0, 2, 2, 2, 0, 2, 2, 2, 0, 2, 2, 0])"
      ]
     },
     "execution_count": 7,
     "metadata": {},
     "output_type": "execute_result"
    }
   ],
   "source": [
    "clustering.labels_"
   ]
  },
  {
   "cell_type": "code",
   "execution_count": 8,
   "metadata": {},
   "outputs": [
    {
     "data": {
      "text/plain": [
       "array([0, 0, 0, 0, 0, 0, 0, 0, 0, 0, 0, 0, 0, 0, 0, 0, 0, 0, 0, 0, 0, 0,\n",
       "       0, 0, 0, 0, 0, 0, 0, 0, 0, 0, 0, 0, 0, 0, 0, 0, 0, 0, 0, 0, 0, 0,\n",
       "       0, 0, 0, 0, 0, 0, 1, 1, 1, 1, 1, 1, 1, 1, 1, 1, 1, 1, 1, 1, 1, 1,\n",
       "       1, 1, 1, 1, 1, 1, 1, 1, 1, 1, 1, 1, 1, 1, 1, 1, 1, 1, 1, 1, 1, 1,\n",
       "       1, 1, 1, 1, 1, 1, 1, 1, 1, 1, 1, 1, 2, 2, 2, 2, 2, 2, 2, 2, 2, 2,\n",
       "       2, 2, 2, 2, 2, 2, 2, 2, 2, 2, 2, 2, 2, 2, 2, 2, 2, 2, 2, 2, 2, 2,\n",
       "       2, 2, 2, 2, 2, 2, 2, 2, 2, 2, 2, 2, 2, 2, 2, 2, 2, 2])"
      ]
     },
     "execution_count": 8,
     "metadata": {},
     "output_type": "execute_result"
    }
   ],
   "source": [
    "iris.target"
   ]
  },
  {
   "cell_type": "code",
   "execution_count": 15,
   "metadata": {},
   "outputs": [
    {
     "name": "stdout",
     "output_type": "stream",
     "text": [
      "accuracy_score 0.49333333333333335\n",
      "silhouette_score 0.5135953221192208\n"
     ]
    }
   ],
   "source": [
    "clustering = AgglomerativeClustering(n_clusters=3, affinity='euclidean', linkage='complete')\n",
    "\n",
    "clustering.fit(iris.data)\n",
    "\n",
    "relabel = np.choose(clustering.labels_,[1,0,2]).astype(np.int64)\n",
    "\n",
    "print( 'accuracy_score', accuracy_score(iris.target, relabel) )\n",
    "print( 'silhouette_score', silhouette_score(iris.data, relabel) )"
   ]
  },
  {
   "cell_type": "code",
   "execution_count": 16,
   "metadata": {},
   "outputs": [
    {
     "name": "stdout",
     "output_type": "stream",
     "text": [
      "accuracy_score 0.9066666666666666\n",
      "silhouette_score 0.5541608580282847\n"
     ]
    }
   ],
   "source": [
    "clustering = AgglomerativeClustering(n_clusters=3, affinity='euclidean', linkage='average')\n",
    "\n",
    "clustering.fit(iris.data)\n",
    "\n",
    "relabel = np.choose(clustering.labels_,[1,0,2]).astype(np.int64)\n",
    "\n",
    "print( 'accuracy_score', accuracy_score(iris.target, relabel) )\n",
    "print( 'silhouette_score', silhouette_score(iris.data, relabel) )"
   ]
  },
  {
   "cell_type": "code",
   "execution_count": 17,
   "metadata": {},
   "outputs": [
    {
     "name": "stdout",
     "output_type": "stream",
     "text": [
      "accuracy_score 0.9\n",
      "silhouette_score 0.5535372928319976\n"
     ]
    }
   ],
   "source": [
    "clustering = AgglomerativeClustering(n_clusters=3, affinity='manhattan', linkage='average')\n",
    "\n",
    "clustering.fit(iris.data)\n",
    "\n",
    "relabel = np.choose(clustering.labels_,[1,0,2]).astype(np.int64)\n",
    "\n",
    "print( 'accuracy_score', accuracy_score(iris.target, relabel) )\n",
    "print( 'silhouette_score', silhouette_score(iris.data, relabel) )"
   ]
  },
  {
   "cell_type": "markdown",
   "metadata": {},
   "source": [
    "## Plot the data"
   ]
  },
  {
   "cell_type": "code",
   "execution_count": 20,
   "metadata": {},
   "outputs": [
    {
     "data": {
      "image/png": "[encoded data removed]",
      "text/plain": [
       "<Figure size 504x288 with 1 Axes>"
      ]
     },
     "metadata": {
      "needs_background": "light"
     },
     "output_type": "display_data"
    }
   ],
   "source": [
    "color_theme = np.array(['red','grey','blue'])\n",
    "\n",
    "plt.scatter(iris.data[:, 2], iris.data[:, 3],  c=color_theme[relabel], s=50);"
   ]
  },
  {
   "cell_type": "code",
   "execution_count": null,
   "metadata": {},
   "outputs": [],
   "source": []
  }
 ],
 "metadata": {
  "kernelspec": {
   "display_name": "Python 3",
   "language": "python",
   "name": "python3"
  },
  "language_info": {
   "codemirror_mode": {
    "name": "ipython",
    "version": 3
   },
   "file_extension": ".py",
   "mimetype": "text/x-python",
   "name": "python",
   "nbconvert_exporter": "python",
   "pygments_lexer": "ipython3",
   "version": "3.7.3"
  }
 },
 "nbformat": 4,
 "nbformat_minor": 2
}
